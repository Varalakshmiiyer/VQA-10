{
 "cells": [
  {
   "cell_type": "markdown",
   "metadata": {
    "collapsed": true
   },
   "source": [
    "### Import Libraries for General Processing"
   ]
  },
  {
   "cell_type": "code",
   "execution_count": 1,
   "metadata": {
    "collapsed": false
   },
   "outputs": [],
   "source": [
    "import numpy as np\n",
    "import pandas as pd\n",
    "\n",
    "from collections import Counter\n",
    "import ujson as json\n",
    "from pathlib import Path\n",
    "import random\n",
    "\n",
    "import warnings\n",
    "warnings.filterwarnings(\"ignore\")"
   ]
  },
  {
   "cell_type": "markdown",
   "metadata": {},
   "source": [
    "### Loading VQA data"
   ]
  },
  {
   "cell_type": "code",
   "execution_count": 2,
   "metadata": {
    "collapsed": true
   },
   "outputs": [],
   "source": [
    "def reading_vqa_data(vqa_dir, section):\n",
    "    ans = 'mscoco_%s2014_annotations.json' % section\n",
    "    with (vqa_dir / ans).open() as file_:\n",
    "        ans_data = json.load(file_)\n",
    "    image_by_id = {}\n",
    "    answers_by_id = {}\n",
    "    for answer in ans_data['annotations']:\n",
    "        image = str(answer['image_id'])\n",
    "        mca = answer['multiple_choice_answer']\n",
    "        img = '0'*(12 - len(image)) + image\n",
    "        s = '/data/%s/images' % section\n",
    "        s = s + '/COCO_%s2014_' % section + img + '.jpg'\n",
    "        image_by_id[answer['question_id']] = s\n",
    "        answers_by_id[answer['question_id']] = mca\n",
    "    filename = ('MultipleChoice_mscoco_'\n",
    "                '%s2014_questions.json' % section)\n",
    "    with (vqa_dir / filename).open() as file_:\n",
    "        ques_data = json.load(file_)\n",
    "    for question in ques_data['questions']:\n",
    "        text = question['question']\n",
    "        ques_id = question['question_id']\n",
    "        options = question['multiple_choices']\n",
    "        image_path = image_by_id[ques_id]\n",
    "        yield ques_id, image_by_id[ques_id], text, options, answers_by_id[ques_id]"
   ]
  },
  {
   "cell_type": "code",
   "execution_count": 3,
   "metadata": {
    "collapsed": false
   },
   "outputs": [],
   "source": [
    "train_data = list(reading_vqa_data(Path('Train'), 'train'))\n",
    "eval_data = list(reading_vqa_data(Path('Val'), 'val'))"
   ]
  },
  {
   "cell_type": "code",
   "execution_count": 4,
   "metadata": {
    "collapsed": true
   },
   "outputs": [],
   "source": [
    "def get_answers(data, top_n=1000):\n",
    "    freqs = Counter()\n",
    "    ans2id = {}\n",
    "    id2ans = {}\n",
    "    ans2ques = {}\n",
    "    id2ques = {}\n",
    "    for ques_id, _, _2, _3, answer in data:\n",
    "        freqs[answer] += 1\n",
    "        ans2ques[answer] = ques_id\n",
    "    most_common = freqs.most_common(top_n)\n",
    "    #most_common = freqs.most_common()\n",
    "    for i, (string, _) in enumerate(most_common):\n",
    "        ans2id[string] = i+1\n",
    "        id2ans[i+1] = string\n",
    "        id2ques[i+1] = ans2ques[string]\n",
    "    return ans2id, id2ans, id2ques"
   ]
  },
  {
   "cell_type": "code",
   "execution_count": 5,
   "metadata": {
    "collapsed": false
   },
   "outputs": [],
   "source": [
    "top_n = 16140\n",
    "ans2id, id2ans, id2ques = get_answers(train_data, top_n)\n",
    "id2ans[0] = 'yes'\n",
    "most_common_a = id2ans[1]\n",
    "most_common_q = id2ques[1]"
   ]
  },
  {
   "cell_type": "markdown",
   "metadata": {},
   "source": [
    "### From predictions to json"
   ]
  },
  {
   "cell_type": "code",
   "execution_count": 9,
   "metadata": {
    "collapsed": true
   },
   "outputs": [],
   "source": [
    "y_eval = np.asarray(pd.read_csv(\"predictions.csv\", header = None, sep = \"\\t\")[0])"
   ]
  },
  {
   "cell_type": "code",
   "execution_count": 12,
   "metadata": {
    "collapsed": false
   },
   "outputs": [],
   "source": [
    "r = []\n",
    "i = 0\n",
    "for ques_id, _, _2, _3, _4 in eval_data:\n",
    "    a = id2ans[y_eval[i]]\n",
    "    d = {'answer' : a, 'question_id': ques_id}\n",
    "    r.append(d)\n",
    "    i = i + 1"
   ]
  },
  {
   "cell_type": "code",
   "execution_count": 13,
   "metadata": {
    "collapsed": true
   },
   "outputs": [],
   "source": [
    "with open('results.json', 'w') as f:\n",
    "    json.dump(r, f)"
   ]
  }
 ],
 "metadata": {
  "kernelspec": {
   "display_name": "Python 3",
   "language": "python",
   "name": "python3"
  },
  "language_info": {
   "codemirror_mode": {
    "name": "ipython",
    "version": 3
   },
   "file_extension": ".py",
   "mimetype": "text/x-python",
   "name": "python",
   "nbconvert_exporter": "python",
   "pygments_lexer": "ipython3",
   "version": "3.5.1"
  }
 },
 "nbformat": 4,
 "nbformat_minor": 0
}
